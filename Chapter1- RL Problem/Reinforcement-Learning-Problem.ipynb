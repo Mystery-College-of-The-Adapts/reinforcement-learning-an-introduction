{
 "cells": [
  {
   "cell_type": "markdown",
   "metadata": {},
   "source": [
    "## Introduction\n",
    "\n",
    "### Learning Goals\n",
    "\n",
    "- Understand the Reinforcement Learning problem and how it differs from Supervised Learning\n",
    "\n",
    "\n",
    "### Summary\n",
    "\n",
    "- Reinforcement Learning (RL) is concerned with goal-directed learning and decision-making.\n",
    "- In RL an agent learns from experiences it gains by interacting with the environment. In Supervised Learning we cannot affect the environment.\n",
    "- In RL rewards are often delayed in time and the agent tries to maximize a long-term goal. For example, one may need to make seemingly suboptimal moves to reach a winning position in a game.\n",
    "- An agent interacts with the environment via states, actions and rewards.\n",
    "\n",
    "\n",
    "### Lectures & Readings\n",
    "\n",
    "**Required:**\n",
    "\n",
    "- [Reinforcement Learning: An Introduction](https://webdocs.cs.ualberta.ca/~sutton/book/bookdraft2016sep.pdf) - Chapter 1: The Reinforcement Learning Problem\n",
    "- David Silver's RL Course Lecture 1 - Introduction to Reinforcement Learning ([video](https://www.youtube.com/watch?v=2pWv7GOvuf0), [slides](http://www0.cs.ucl.ac.uk/staff/d.silver/web/Teaching_files/intro_RL.pdf))\n",
    "- [OpenAI Gym Tutorial](https://gym.openai.com/docs)\n",
    "\n",
    "**Optional:**\n",
    "\n",
    "N/A\n",
    "\n",
    "\n",
    "### Exercises\n",
    "\n",
    "- [Work through the OpenAI Gym Tutorial](https://gym.openai.com/docs)"
   ]
  }
 ],
 "metadata": {
  "anaconda-cloud": {},
  "kernelspec": {
   "display_name": "Python [conda env:py3]",
   "language": "python",
   "name": "conda-env-py3-py"
  },
  "language_info": {
   "codemirror_mode": {
    "name": "ipython",
    "version": 3
   },
   "file_extension": ".py",
   "mimetype": "text/x-python",
   "name": "python",
   "nbconvert_exporter": "python",
   "pygments_lexer": "ipython3",
   "version": "3.5.2"
  }
 },
 "nbformat": 4,
 "nbformat_minor": 1
}
